{
 "cells": [
  {
   "cell_type": "markdown",
   "metadata": {},
   "source": [
    "Einfaches Jupyter-Notebook um Vergleiche bzw. Analysen übersichtlich darzustellen\n",
    "\n",
    "Animation\n",
    "für großen datensatz noch die kanten die in die senke führen visualisisren\n",
    "S-t-Schnitt\n",
    "Wiki nochmal gegenchecken zur weiteren Interpretationen"
   ]
  },
  {
   "cell_type": "markdown",
   "metadata": {},
   "source": [
    "# Lösungsqualität zwischen Ford & Fulkson VS. Gurobi "
   ]
  },
  {
   "cell_type": "markdown",
   "metadata": {},
   "source": [
    "\n",
    "| Laufzeit  | Ford-Fulkerson              | Gurobi                        |\n",
    "|----------------------|-----------------------------|-------------------------------|\n",
    "|    Kleine Instanz   |                |                               |\n",
    "|    Große Instanz       |              |    |\n"
   ]
  },
  {
   "cell_type": "markdown",
   "metadata": {},
   "source": []
  }
 ],
 "metadata": {
  "language_info": {
   "name": "python"
  }
 },
 "nbformat": 4,
 "nbformat_minor": 2
}
