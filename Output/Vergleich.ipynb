{
 "cells": [
  {
   "cell_type": "markdown",
   "metadata": {},
   "source": [
    "Einfaches Jupyter-Notebook um Vergleiche bzw. Analysen übersichtlich darzustellen\n",
    "\n",
    "Animation\n",
    "für großen datensatz noch die kanten die in die senke führen visualisisren\n",
    "S-t-Schnitt\n",
    "Wiki nochmal gegenchecken zur weiteren Interpretationen"
   ]
  },
  {
   "cell_type": "markdown",
   "metadata": {},
   "source": [
    "# Lösungsqualität zwischen Ford & Fulkson VS. Gurobi "
   ]
  },
  {
   "cell_type": "markdown",
   "metadata": {},
   "source": [
    "Prozessor: AMD Ryzen 7 5800H\n",
    "\n",
    "Taktrate: 3,2 GHz / 4,4 GHz\n",
    "\n",
    "| Laufzeit  | Ford-Fulkerson              | Gurobi                        |\n",
    "|----------------------|-----------------------------|-------------------------------|\n",
    "|    Kleine Instanz   |                |                               |\n",
    "|    Große Instanz       |              |    |\n"
   ]
  },
  {
   "cell_type": "markdown",
   "metadata": {},
   "source": []
  }
 ],
 "metadata": {
  "language_info": {
   "name": "python"
  }
 },
 "nbformat": 4,
 "nbformat_minor": 2
}
