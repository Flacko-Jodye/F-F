{
 "cells": [
  {
   "cell_type": "markdown",
   "metadata": {},
   "source": [
    "Einfaches Jupyter-Notebook um Vergleiche bzw. Analysen übersichtlich darzustellen\n",
    "\n",
    "Animation\n",
    "für großen datensatz noch die kanten die in die senke führen visualisisren\n",
    "S-t-Schnitt\n",
    "Wiki nochmal gegenchecken zur weiteren Interpretationen"
   ]
  },
  {
   "cell_type": "code",
   "execution_count": null,
   "metadata": {
    "vscode": {
     "languageId": "plaintext"
    }
   },
   "outputs": [],
   "source": [
    "Laufzeit der verschiedenen F&F Modi:\n",
    "CPU: AMD Ryzen 7 5800H @ 3,2 GHz"
   ]
  }
 ],
 "metadata": {
  "language_info": {
   "name": "python"
  }
 },
 "nbformat": 4,
 "nbformat_minor": 2
}
